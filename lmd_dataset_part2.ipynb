{
 "cells": [
  {
   "cell_type": "code",
   "execution_count": 1,
   "metadata": {},
   "outputs": [],
   "source": [
    "import pretty_midi\n",
    "import symusic\n",
    "import mido\n",
    "import numpy as np\n",
    "import joblib\n",
    "import glob\n",
    "import matplotlib.pyplot as plt\n",
    "# %matplotlib inline\n",
    "# import seaborn as sns\n",
    "# sns.set_style('white')\n",
    "# sns.set_context('notebook', font_scale=1.5)\n",
    "import matplotlib.gridspec\n",
    "import collections\n",
    "import os\n",
    "from pathlib import Path\n",
    "# plotting.py contains utility functions for making nice histogram plots\n",
    "# import util.plotting as plotting\n",
    "from util.play_midi import play_midi\n",
    "from statistics import mean, stdev, variance\n",
    "import random\n",
    "import miditok\n",
    "import pandas as pd\n",
    "from tqdm import tqdm \n",
    "import csv\n",
    "\n",
    "from huggingface_hub import notebook_login\n",
    "import ipywidgets"
   ]
  },
  {
   "cell_type": "code",
   "execution_count": 2,
   "metadata": {},
   "outputs": [
    {
     "name": "stdout",
     "output_type": "stream",
     "text": [
      "/mnt/sdb1/big_documents/uni_surrey/Project\n",
      "138174\n"
     ]
    }
   ],
   "source": [
    "if \"lofi_radio\" in os.getcwd().split(os.sep)[-1].lower():\n",
    "    os.chdir(\"..\")\n",
    "\n",
    "# if os.chdir(\"..\")\n",
    "print(os.getcwd())\n",
    "\n",
    "midi_files = [str(file) for file in Path(\"pretraining_dataset/\").glob(\"**/*.mid\")]\n",
    "midi_file2 = [str(file) for file in Path(\"lofi_radio/data/jazz_midi\").glob(\"*.mid\")]\n",
    "print(len(midi_files))"
   ]
  },
  {
   "cell_type": "code",
   "execution_count": 9,
   "metadata": {},
   "outputs": [
    {
     "data": {
      "application/vnd.jupyter.widget-view+json": {
       "model_id": "8b45c77c8cc546a8b080c7522e281119",
       "version_major": 2,
       "version_minor": 0
      },
      "text/plain": [
       "VBox(children=(HTML(value='<center> <img\\nsrc=https://huggingface.co/front/assets/huggingface_logo-noborder.sv…"
      ]
     },
     "metadata": {},
     "output_type": "display_data"
    }
   ],
   "source": [
    "notebook_login()"
   ]
  },
  {
   "cell_type": "code",
   "execution_count": 3,
   "metadata": {},
   "outputs": [
    {
     "name": "stderr",
     "output_type": "stream",
     "text": [
      "/usr/local/lib/python3.10/dist-packages/miditok/midi_tokenizer.py:3252: UserWarning: The special token PAD_None is present twice in your configuration. Skipping its duplicated occurrence.\n",
      "  self.config = TokenizerConfig()\n",
      "/usr/local/lib/python3.10/dist-packages/miditok/classes.py:702: UserWarning: The special token PAD_None is present twice in your configuration. Skipping its duplicated occurrence.\n",
      "  return cls(**input_dict, **kwargs)\n"
     ]
    }
   ],
   "source": [
    "tokenizer = miditok.REMI.from_pretrained(\"theglassofwater/remi_12500\")"
   ]
  },
  {
   "cell_type": "code",
   "execution_count": 4,
   "metadata": {},
   "outputs": [],
   "source": [
    "seq_len = 100_000\n",
    "full_dataset = miditok.pytorch_data.DatasetMIDI(\n",
    "    files_paths=midi_files[:1000],\n",
    "    max_seq_len=seq_len+1,  # max_seq_len = start + seq_len + end\n",
    "    tokenizer=tokenizer,\n",
    "    bos_token_id=tokenizer[\"BOS_None\"],\n",
    "    eos_token_id=tokenizer[\"EOS_None\"],\n",
    ")"
   ]
  },
  {
   "cell_type": "code",
   "execution_count": 5,
   "metadata": {},
   "outputs": [
    {
     "name": "stderr",
     "output_type": "stream",
     "text": [
      "[Parallel(n_jobs=12)]: Using backend LokyBackend with 12 concurrent workers.\n",
      "[Parallel(n_jobs=12)]: Done  26 tasks      | elapsed:    7.3s\n",
      "[Parallel(n_jobs=12)]: Done 176 tasks      | elapsed:   22.8s\n",
      "[Parallel(n_jobs=12)]: Done 426 tasks      | elapsed:   49.3s\n",
      "[Parallel(n_jobs=12)]: Done 776 tasks      | elapsed:  1.5min\n",
      "[Parallel(n_jobs=12)]: Done 1000 out of 1000 | elapsed:  1.8min finished\n"
     ]
    }
   ],
   "source": [
    "def tokenize_file(file):\n",
    "    try:\n",
    "        tokenized_file = file[\"input_ids\"]\n",
    "        return tokenized_file\n",
    "    except:\n",
    "        return None\n",
    "\n",
    "tokenized_dataset = joblib.Parallel(n_jobs=12, verbose=1)(\n",
    "    joblib.delayed(tokenize_file)(midi_file)\n",
    "    for midi_file in full_dataset)\n",
    "\n",
    "sections_n = 20\n",
    "sections_size = int(len(tokenized_dataset)/20)\n",
    "for i in range(sections_n):\n",
    "    hf_csv = pd.DataFrame({\"input_id\":[[int(i) for i in s] for s in tokenized_dataset[int(i*sections_size):int((i+1)*sections_size)] if s is not None]})\n",
    "    hf_csv.to_csv(f\"tokenized_datasets/tokenized_dataset_{i}.csv\")\n",
    "\n",
    "hf_csv = pd.DataFrame({\"input_id\":[[int(i) for i in s] for s in tokenized_dataset if s is not None]})\n",
    "hf_csv.to_csv(\"tokenized_dataset.csv\")\n"
   ]
  },
  {
   "cell_type": "code",
   "execution_count": 7,
   "metadata": {},
   "outputs": [
    {
     "ename": "Error",
     "evalue": "iterable expected, not NoneType",
     "output_type": "error",
     "traceback": [
      "\u001b[0;31m---------------------------------------------------------------------------\u001b[0m",
      "\u001b[0;31mError\u001b[0m                                     Traceback (most recent call last)",
      "\u001b[0;32m/tmp/ipykernel_102778/2058924840.py\u001b[0m in \u001b[0;36m<module>\u001b[0;34m\u001b[0m\n\u001b[1;32m      3\u001b[0m     \u001b[0mwriter\u001b[0m \u001b[0;34m=\u001b[0m \u001b[0mcsv\u001b[0m\u001b[0;34m.\u001b[0m\u001b[0mwriter\u001b[0m\u001b[0;34m(\u001b[0m\u001b[0mf\u001b[0m\u001b[0;34m)\u001b[0m\u001b[0;34m\u001b[0m\u001b[0;34m\u001b[0m\u001b[0m\n\u001b[1;32m      4\u001b[0m     \u001b[0;32mfor\u001b[0m \u001b[0mresult\u001b[0m \u001b[0;32min\u001b[0m \u001b[0mtokenized_dataset\u001b[0m\u001b[0;34m:\u001b[0m\u001b[0;34m\u001b[0m\u001b[0;34m\u001b[0m\u001b[0m\n\u001b[0;32m----> 5\u001b[0;31m         \u001b[0mwriter\u001b[0m\u001b[0;34m.\u001b[0m\u001b[0mwriterow\u001b[0m\u001b[0;34m(\u001b[0m\u001b[0mresult\u001b[0m\u001b[0;34m)\u001b[0m\u001b[0;34m\u001b[0m\u001b[0;34m\u001b[0m\u001b[0m\n\u001b[0m",
      "\u001b[0;31mError\u001b[0m: iterable expected, not NoneType"
     ]
    }
   ],
   "source": [
    "import csv\n",
    "with open('tokenized_pretraining_datset.csv', 'a', newline='') as f:  # 'a' opens the file in append mode\n",
    "    writer = csv.writer(f)\n",
    "    for result in tokenized_dataset:\n",
    "        if result is not None:\n",
    "            writer.writerow(int(result))"
   ]
  },
  {
   "cell_type": "code",
   "execution_count": 25,
   "metadata": {},
   "outputs": [],
   "source": [
    "sections_n = 20\n",
    "sections_size = int(len(tokenized_dataset)/20)\n",
    "for i in range(sections_n):\n",
    "    hf_csv = pd.DataFrame({\"input_id\":[[int(i) for i in s] for s in tokenized_dataset[int(i*sections_size):int((i+1)*sections_size)] if s is not None]})\n",
    "    hf_csv.to_csv(f\"tokenized_datasets/tokenized_dataset_{i}.csv\")\n",
    "# hf_csv"
   ]
  },
  {
   "cell_type": "code",
   "execution_count": 23,
   "metadata": {},
   "outputs": [
    {
     "data": {
      "text/html": [
       "<div>\n",
       "<style scoped>\n",
       "    .dataframe tbody tr th:only-of-type {\n",
       "        vertical-align: middle;\n",
       "    }\n",
       "\n",
       "    .dataframe tbody tr th {\n",
       "        vertical-align: top;\n",
       "    }\n",
       "\n",
       "    .dataframe thead th {\n",
       "        text-align: right;\n",
       "    }\n",
       "</style>\n",
       "<table border=\"1\" class=\"dataframe\">\n",
       "  <thead>\n",
       "    <tr style=\"text-align: right;\">\n",
       "      <th></th>\n",
       "      <th>Unnamed: 0</th>\n",
       "      <th>input_id</th>\n",
       "    </tr>\n",
       "  </thead>\n",
       "  <tbody>\n",
       "    <tr>\n",
       "      <th>0</th>\n",
       "      <td>0</td>\n",
       "      <td>[1, 4, 416, 594, 11103, 654, 450, 594, 1819, 1...</td>\n",
       "    </tr>\n",
       "    <tr>\n",
       "      <th>1</th>\n",
       "      <td>1</td>\n",
       "      <td>[1, 416, 3790, 558, 640, 558, 682, 7110, 893, ...</td>\n",
       "    </tr>\n",
       "    <tr>\n",
       "      <th>2</th>\n",
       "      <td>2</td>\n",
       "      <td>[1, 4, 416, 2460, 2030, 2460, 2391, 2460, 2295...</td>\n",
       "    </tr>\n",
       "    <tr>\n",
       "      <th>3</th>\n",
       "      <td>3</td>\n",
       "      <td>[1, 4, 4, 1633, 454, 993, 454, 950, 443, 1141,...</td>\n",
       "    </tr>\n",
       "    <tr>\n",
       "      <th>4</th>\n",
       "      <td>4</td>\n",
       "      <td>[1, 416, 923, 4102, 61, 1416, 193, 658, 3744, ...</td>\n",
       "    </tr>\n",
       "    <tr>\n",
       "      <th>...</th>\n",
       "      <td>...</td>\n",
       "      <td>...</td>\n",
       "    </tr>\n",
       "    <tr>\n",
       "      <th>195</th>\n",
       "      <td>195</td>\n",
       "      <td>[1, 1176, 3747, 1304, 194, 2171, 7443, 2154, 7...</td>\n",
       "    </tr>\n",
       "    <tr>\n",
       "      <th>196</th>\n",
       "      <td>196</td>\n",
       "      <td>[1, 4, 969, 1221, 769, 1089, 213, 1352, 1255, ...</td>\n",
       "    </tr>\n",
       "    <tr>\n",
       "      <th>197</th>\n",
       "      <td>197</td>\n",
       "      <td>[1, 4, 206, 4097, 985, 211, 4529, 872, 217, 25...</td>\n",
       "    </tr>\n",
       "    <tr>\n",
       "      <th>198</th>\n",
       "      <td>198</td>\n",
       "      <td>[1, 4, 4, 416, 6008, 809, 1041, 583, 4537, 558...</td>\n",
       "    </tr>\n",
       "    <tr>\n",
       "      <th>199</th>\n",
       "      <td>199</td>\n",
       "      <td>[1, 416, 299, 18, 425, 6666, 9417, 299, 20, 43...</td>\n",
       "    </tr>\n",
       "  </tbody>\n",
       "</table>\n",
       "<p>200 rows × 2 columns</p>\n",
       "</div>"
      ],
      "text/plain": [
       "     Unnamed: 0                                           input_id\n",
       "0             0  [1, 4, 416, 594, 11103, 654, 450, 594, 1819, 1...\n",
       "1             1  [1, 416, 3790, 558, 640, 558, 682, 7110, 893, ...\n",
       "2             2  [1, 4, 416, 2460, 2030, 2460, 2391, 2460, 2295...\n",
       "3             3  [1, 4, 4, 1633, 454, 993, 454, 950, 443, 1141,...\n",
       "4             4  [1, 416, 923, 4102, 61, 1416, 193, 658, 3744, ...\n",
       "..          ...                                                ...\n",
       "195         195  [1, 1176, 3747, 1304, 194, 2171, 7443, 2154, 7...\n",
       "196         196  [1, 4, 969, 1221, 769, 1089, 213, 1352, 1255, ...\n",
       "197         197  [1, 4, 206, 4097, 985, 211, 4529, 872, 217, 25...\n",
       "198         198  [1, 4, 4, 416, 6008, 809, 1041, 583, 4537, 558...\n",
       "199         199  [1, 416, 299, 18, 425, 6666, 9417, 299, 20, 43...\n",
       "\n",
       "[200 rows x 2 columns]"
      ]
     },
     "execution_count": 23,
     "metadata": {},
     "output_type": "execute_result"
    }
   ],
   "source": [
    "hf_read_csv = pd.read_csv(\"tokenized_dataset0.csv\")\n",
    "hf_read_csv"
   ]
  },
  {
   "cell_type": "code",
   "execution_count": 15,
   "metadata": {},
   "outputs": [
    {
     "name": "stdout",
     "output_type": "stream",
     "text": [
      "1000\n",
      "2\n"
     ]
    }
   ],
   "source": [
    "print(len(tokenized_dataset))\n",
    "print(len([s for s in tokenized_dataset if s is None]))"
   ]
  },
  {
   "cell_type": "code",
   "execution_count": null,
   "metadata": {},
   "outputs": [],
   "source": [
    "hf_csv = pd.DataFrame({\"input_id\":tokenized_dataset})\n",
    "hf_csv.to_csv(\"tokenized_dataset.csv\")"
   ]
  },
  {
   "cell_type": "code",
   "execution_count": null,
   "metadata": {},
   "outputs": [],
   "source": [
    "from datasets import load_dataset\n",
    "\n",
    "hf_dataset = load_dataset(\"pretraining_tokenized_dataset\", data_dir=\"Users/joeac/Documents/Uni/Y3/Project/tokenized_dataset.csv\"))\n",
    "hf_dataset.push_to_hub(\"theglassofwater/pretraining_tokenized_dataset\")"
   ]
  }
 ],
 "metadata": {
  "kernelspec": {
   "display_name": "Python 3",
   "language": "python",
   "name": "python3"
  },
  "language_info": {
   "codemirror_mode": {
    "name": "ipython",
    "version": 3
   },
   "file_extension": ".py",
   "mimetype": "text/x-python",
   "name": "python",
   "nbconvert_exporter": "python",
   "pygments_lexer": "ipython3",
   "version": "3.10.12"
  }
 },
 "nbformat": 4,
 "nbformat_minor": 2
}
