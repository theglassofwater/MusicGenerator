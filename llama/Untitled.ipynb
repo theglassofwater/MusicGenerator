{
 "cells": [
  {
   "cell_type": "code",
   "execution_count": 1,
   "id": "f98942a5",
   "metadata": {},
   "outputs": [
    {
     "data": {
      "text/plain": [
       "'/home/youssef/Documents/project/lofi_radio'"
      ]
     },
     "execution_count": 1,
     "metadata": {},
     "output_type": "execute_result"
    }
   ],
   "source": [
    "import os\n",
    "import sys\n",
    "os.chdir(\"..\")\n",
    "# from matplotlib import pyplot as plt\n",
    "# from matplotlib import patches\n",
    "# from matplotlib import colors\n",
    "import pandas as pd\n",
    "import IPython.display as ipd\n",
    "# import glob\n",
    "import numpy as np\n",
    "# import muspy\n",
    "# import pypianoroll\n",
    "import torch\n",
    "from util.play_midi import play_midi\n",
    "# !pip install miditok symusic\n",
    "from miditok import REMI, TokenizerConfig\n",
    "from miditok.pytorch_data import DataCollator, DatasetMIDI #, DatasetTok\n",
    "from pathlib import Path\n",
    "from symusic import Score\n",
    "from torch.utils.data import DataLoader\n",
    "os.getcwd()"
   ]
  },
  {
   "cell_type": "code",
   "execution_count": null,
   "id": "5c2f3408",
   "metadata": {},
   "outputs": [],
   "source": []
  }
 ],
 "metadata": {
  "kernelspec": {
   "display_name": "Python 3 (ipykernel)",
   "language": "python",
   "name": "python3"
  },
  "language_info": {
   "codemirror_mode": {
    "name": "ipython",
    "version": 3
   },
   "file_extension": ".py",
   "mimetype": "text/x-python",
   "name": "python",
   "nbconvert_exporter": "python",
   "pygments_lexer": "ipython3",
   "version": "3.10.12"
  }
 },
 "nbformat": 4,
 "nbformat_minor": 5
}
