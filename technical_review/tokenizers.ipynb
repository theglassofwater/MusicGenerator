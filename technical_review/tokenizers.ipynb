{
 "cells": [
  {
   "cell_type": "code",
   "execution_count": 8,
   "metadata": {},
   "outputs": [
    {
     "data": {
      "text/plain": [
       "'c:\\\\Users\\\\joeac\\\\Documents\\\\Uni\\\\Y3\\\\Project\\\\lofi_radio-1'"
      ]
     },
     "execution_count": 8,
     "metadata": {},
     "output_type": "execute_result"
    }
   ],
   "source": [
    "if \"lofi_radio\" not in os.getcwd().split(os.sep)[-1].lower():\n",
    "    os.chdir(\"..\")\n",
    "\n",
    "import miditok\n",
    "\n",
    "import torch \n",
    "import numpy as np\n",
    "import pandas as pd\n",
    "import glob \n",
    "from tqdm import tqdm\n",
    "import mido\n",
    "import symusic\n",
    "from util.play_midi import play_midi\n",
    "\n",
    "import os\n",
    "import sys\n",
    "from pathlib import Path\n",
    "import matplotlib.pyplot as plt\n",
    "\n",
    "\n",
    "os.getcwd()"
   ]
  },
  {
   "cell_type": "code",
   "execution_count": 9,
   "metadata": {},
   "outputs": [
    {
     "name": "stdout",
     "output_type": "stream",
     "text": [
      "940\n",
      "REMI has vocab size of : 282\n",
      "MIDI_LIKE has vocab size of : 398\n",
      "Octuple has vocab size of : 357\n",
      "CP_Word has vocab size of : 304\n"
     ]
    }
   ],
   "source": [
    "midi_files = list(Path(\"data/\").glob(\"**/*.mid\"))\n",
    "print(len(midi_files))\n",
    "\n",
    "tokenizers = {\"REMI\":miditok.REMI(), \"MIDI_LIKE\":miditok.MIDILike(), \"Octuple\": miditok.Octuple(), \"CP_Word\": miditok.CPWord()}\n",
    "\n",
    "for item in tokenizers:\n",
    "    print(f\"{item} has vocab size of : {len(tokenizers[item])}\")"
   ]
  },
  {
   "cell_type": "code",
   "execution_count": 10,
   "metadata": {},
   "outputs": [
    {
     "data": {
      "text/plain": [
       "WindowsPath('data/jazz_midi/2ndMovementOfSinisterFootwear.mid')"
      ]
     },
     "execution_count": 10,
     "metadata": {},
     "output_type": "execute_result"
    }
   ],
   "source": [
    "song2_file = midi_files[1]\n",
    "song2_file"
   ]
  },
  {
   "cell_type": "code",
   "execution_count": 86,
   "metadata": {},
   "outputs": [
    {
     "name": "stdout",
     "output_type": "stream",
     "text": [
      "[('REMI', 282 tokens with ('I', 'T') io format, without BPE), ('MIDI_LIKE', 398 tokens with ('I', 'T') io format, without BPE), ('Octuple', [153, 36, 68, 36, 396] tokens with ('I', 'T', 'C') io format(multi-voc), without BPE), ('CP_Word', [6, 38, 154, 37, 69] tokens with ('I', 'T', 'C') io format(multi-voc), without BPE)]\n"
     ]
    },
    {
     "data": {
      "text/plain": [
       "Text(0.5, 0, 'Tokenizer')"
      ]
     },
     "execution_count": 86,
     "metadata": {},
     "output_type": "execute_result"
    },
    {
     "data": {
      "image/png": "[encoded data removed]",
      "text/plain": [
       "<Figure size 640x480 with 1 Axes>"
      ]
     },
     "metadata": {},
     "output_type": "display_data"
    }
   ],
   "source": [
    "song1_file = midi_files[-2] # short, single tracked song\n",
    "song2_file = midi_files[1] # long, multitrack song\n",
    "\n",
    "\n",
    "def tokenizer_info(song_file, tokenizer):\n",
    "    tracks = tokenizer(song_file)\n",
    "    tokens_per_track = [len(track) for track in tracks]\n",
    "    num_of_tokens = sum(tokens_per_track)\n",
    "    # print(num_of_tokens, len(tracks))\n",
    "    return tracks, num_of_tokens\n",
    "\n",
    "tokens_per_tokenizer = [0]*len(tokenizers)\n",
    "for file in midi_files[25:50]:\n",
    "    for i,name in enumerate(tokenizers.keys()):\n",
    "        tracks, num_of_tokens = tokenizer_info(file, tokenizers[name])\n",
    "        tokens_per_tokenizer[i] += num_of_tokens\n",
    "\n",
    "\n",
    "\n",
    "\n",
    "print([i for i in list(tokenizers.items())])\n",
    "\n",
    "fig, ax = plt.subplots(layout = \"constrained\")\n",
    "# ax.bar(tokenizers.keys(), [tokenizer_info(song2_file, tokenizers[name])[1] for name in tokenizers.keys()])\n",
    "ax.bar(tokenizers.keys(), tokens_per_tokenizer)\n",
    "ax.set_ylabel(\"Number of Tokens\")\n",
    "ax.set_xlabel(\"Tokenizer\")"
   ]
  },
  {
   "cell_type": "code",
   "execution_count": 13,
   "metadata": {},
   "outputs": [
    {
     "name": "stdout",
     "output_type": "stream",
     "text": [
      "data\\test\\3.mid\n"
     ]
    },
    {
     "ename": "TypeError",
     "evalue": "'tuple' object is not callable",
     "output_type": "error",
     "traceback": [
      "\u001b[1;31m---------------------------------------------------------------------------\u001b[0m",
      "\u001b[1;31mTypeError\u001b[0m                                 Traceback (most recent call last)",
      "Cell \u001b[1;32mIn[13], line 6\u001b[0m\n\u001b[0;32m      2\u001b[0m \u001b[38;5;28mprint\u001b[39m(file)\n\u001b[0;32m      4\u001b[0m song \u001b[38;5;241m=\u001b[39m mido\u001b[38;5;241m.\u001b[39mMidiFile(file)\n\u001b[1;32m----> 6\u001b[0m tokenized_songs \u001b[38;5;241m=\u001b[39m \u001b[43m[\u001b[49m\u001b[43mi\u001b[49m\u001b[43m(\u001b[49m\u001b[43mfile\u001b[49m\u001b[43m)\u001b[49m\u001b[38;5;28;43;01mfor\u001b[39;49;00m\u001b[43m \u001b[49m\u001b[43mi\u001b[49m\u001b[43m \u001b[49m\u001b[38;5;129;43;01min\u001b[39;49;00m\u001b[43m \u001b[49m\u001b[43mtokenizers\u001b[49m\u001b[38;5;241;43m.\u001b[39;49m\u001b[43mitems\u001b[49m\u001b[43m(\u001b[49m\u001b[43m)\u001b[49m\u001b[43m]\u001b[49m\n",
      "Cell \u001b[1;32mIn[13], line 6\u001b[0m, in \u001b[0;36m<listcomp>\u001b[1;34m(.0)\u001b[0m\n\u001b[0;32m      2\u001b[0m \u001b[38;5;28mprint\u001b[39m(file)\n\u001b[0;32m      4\u001b[0m song \u001b[38;5;241m=\u001b[39m mido\u001b[38;5;241m.\u001b[39mMidiFile(file)\n\u001b[1;32m----> 6\u001b[0m tokenized_songs \u001b[38;5;241m=\u001b[39m [\u001b[43mi\u001b[49m\u001b[43m(\u001b[49m\u001b[43mfile\u001b[49m\u001b[43m)\u001b[49m\u001b[38;5;28;01mfor\u001b[39;00m i \u001b[38;5;129;01min\u001b[39;00m tokenizers\u001b[38;5;241m.\u001b[39mitems()]\n",
      "\u001b[1;31mTypeError\u001b[0m: 'tuple' object is not callable"
     ]
    }
   ],
   "source": [
    "file = midi_files[-2]\n",
    "print(file)\n",
    "\n",
    "song = mido.MidiFile(file)\n",
    "\n",
    "tokenized_songs = [i(file) for i in tokenizers.items()]"
   ]
  },
  {
   "cell_type": "code",
   "execution_count": 96,
   "metadata": {},
   "outputs": [
    {
     "data": {
      "text/plain": [
       "293"
      ]
     },
     "execution_count": 96,
     "metadata": {},
     "output_type": "execute_result"
    }
   ],
   "source": []
  }
 ],
 "metadata": {
  "kernelspec": {
   "display_name": "Python 3",
   "language": "python",
   "name": "python3"
  },
  "language_info": {
   "codemirror_mode": {
    "name": "ipython",
    "version": 3
   },
   "file_extension": ".py",
   "mimetype": "text/x-python",
   "name": "python",
   "nbconvert_exporter": "python",
   "pygments_lexer": "ipython3",
   "version": "3.11.3"
  }
 },
 "nbformat": 4,
 "nbformat_minor": 2
}
