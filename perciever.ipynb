{
 "cells": [
  {
   "cell_type": "code",
   "execution_count": 2,
   "metadata": {},
   "outputs": [
    {
     "ename": "ModuleNotFoundError",
     "evalue": "No module named 'perceiver'",
     "output_type": "error",
     "traceback": [
      "\u001b[1;31m---------------------------------------------------------------------------\u001b[0m",
      "\u001b[1;31mModuleNotFoundError\u001b[0m                       Traceback (most recent call last)",
      "Cell \u001b[1;32mIn[2], line 2\u001b[0m\n\u001b[0;32m      1\u001b[0m \u001b[38;5;28;01mimport\u001b[39;00m \u001b[38;5;21;01mtorch\u001b[39;00m\n\u001b[1;32m----> 2\u001b[0m \u001b[38;5;28;01mimport\u001b[39;00m \u001b[38;5;21;01mperceiver\u001b[39;00m\n\u001b[0;32m      3\u001b[0m \u001b[38;5;28;01mfrom\u001b[39;00m \u001b[38;5;21;01mperceiver\u001b[39;00m\u001b[38;5;21;01m.\u001b[39;00m\u001b[38;5;21;01mmodel\u001b[39;00m\u001b[38;5;21;01m.\u001b[39;00m\u001b[38;5;21;01maudio\u001b[39;00m\u001b[38;5;21;01m.\u001b[39;00m\u001b[38;5;21;01msymbolic\u001b[39;00m \u001b[38;5;28;01mimport\u001b[39;00m PerceiverSymbolicAudioModel\n\u001b[0;32m      4\u001b[0m \u001b[38;5;28;01mfrom\u001b[39;00m \u001b[38;5;21;01mperceiver\u001b[39;00m\u001b[38;5;21;01m.\u001b[39;00m\u001b[38;5;21;01mdata\u001b[39;00m\u001b[38;5;21;01m.\u001b[39;00m\u001b[38;5;21;01maudio\u001b[39;00m\u001b[38;5;21;01m.\u001b[39;00m\u001b[38;5;21;01mmidi_processor\u001b[39;00m \u001b[38;5;28;01mimport\u001b[39;00m decode_midi, encode_midi\n",
      "\u001b[1;31mModuleNotFoundError\u001b[0m: No module named 'perceiver'"
     ]
    }
   ],
   "source": [
    "import torch\n",
    "import perceiver\n",
    "from perceiver.model.audio.symbolic import PerceiverSymbolicAudioModel\n",
    "from perceiver.data.audio.midi_processor import decode_midi, encode_midi\n",
    "from pretty_midi import PrettyMIDI\n",
    "\n",
    "repo_id = \"krasserm/perceiver-ar-sam-giant-midi\"\n",
    "\n",
    "model = PerceiverSymbolicAudioModel.from_pretrained(repo_id)\n",
    "\n",
    "prompt_midi = PrettyMIDI(\"prompt.mid\")\n",
    "prompt = torch.tensor(encode_midi(prompt_midi)).unsqueeze(0)\n",
    "\n",
    "output = model.generate(prompt, max_new_tokens=64, num_latents=1, do_sample=True, top_p=0.95, temperature=1.0)\n",
    "\n",
    "output_midi = decode_midi(output[0].cpu().numpy())\n",
    "type(output_midi)"
   ]
  },
  {
   "cell_type": "code",
   "execution_count": null,
   "metadata": {},
   "outputs": [],
   "source": []
  }
 ],
 "metadata": {
  "kernelspec": {
   "display_name": "Python 3",
   "language": "python",
   "name": "python3"
  },
  "language_info": {
   "codemirror_mode": {
    "name": "ipython",
    "version": 3
   },
   "file_extension": ".py",
   "mimetype": "text/x-python",
   "name": "python",
   "nbconvert_exporter": "python",
   "pygments_lexer": "ipython3",
   "version": "3.11.3"
  }
 },
 "nbformat": 4,
 "nbformat_minor": 2
}
